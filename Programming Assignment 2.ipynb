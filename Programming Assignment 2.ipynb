{
 "cells": [
  {
   "cell_type": "code",
   "execution_count": 40,
   "id": "8ff1fcf3-1394-46a0-a895-569be8b7e8c2",
   "metadata": {},
   "outputs": [],
   "source": [
    "#PROGRAMMING ASSIGNMETN #2"
   ]
  },
  {
   "cell_type": "code",
   "execution_count": 41,
   "id": "bda4d270-981b-4df9-afe4-7ce59600e149",
   "metadata": {},
   "outputs": [],
   "source": [
    "#NORMALIZATION PROBLEM"
   ]
  },
  {
   "cell_type": "code",
   "execution_count": 42,
   "id": "d4e8c3fd-8d4f-411a-9c00-1b3bebc91055",
   "metadata": {},
   "outputs": [],
   "source": [
    "import numpy as np"
   ]
  },
  {
   "cell_type": "code",
   "execution_count": 43,
   "id": "7572c974-52ae-4e63-9e79-d34ff911c73a",
   "metadata": {},
   "outputs": [
    {
     "name": "stdout",
     "output_type": "stream",
     "text": [
      "Original Array X: \n",
      "[[0.07314389 0.94275098 0.53113552 0.74027017 0.55081683]\n",
      " [0.81490276 0.2630142  0.3885222  0.48940616 0.58528036]\n",
      " [0.55512396 0.3038149  0.36888654 0.48055862 0.44219498]\n",
      " [0.39720104 0.26806533 0.25088121 0.17544421 0.3609052 ]\n",
      " [0.97213991 0.02570634 0.42720068 0.81329862 0.6576848 ]]\n"
     ]
    }
   ],
   "source": [
    "X = np.random.rand(5, 5)\n",
    "print(\"Original Array X: \")\n",
    "print(X)"
   ]
  },
  {
   "cell_type": "code",
   "execution_count": 44,
   "id": "e4e21fee-c59c-4e99-8b99-cded7d1a0f21",
   "metadata": {},
   "outputs": [
    {
     "name": "stdout",
     "output_type": "stream",
     "text": [
      "Mean of X: \n",
      "0.4751339764296775\n",
      "Standard Deviation of X: \n",
      "0.24404343236786527\n"
     ]
    }
   ],
   "source": [
    "mean = X.mean()\n",
    "std = X.std()\n",
    "print(\"Mean of X: \")\n",
    "print(mean)\n",
    "print(\"Standard Deviation of X: \")\n",
    "print(std)"
   ]
  },
  {
   "cell_type": "code",
   "execution_count": 45,
   "id": "b61373f7-50d3-4f76-b111-5b1cbbe22c18",
   "metadata": {},
   "outputs": [
    {
     "name": "stdout",
     "output_type": "stream",
     "text": [
      "Normalized Array: \n",
      "[[-1.64720716  1.91612206  0.22947366  1.08643037  0.31012041]\n",
      " [ 1.39224718 -0.86918864 -0.35490312  0.05848215  0.45133928]\n",
      " [ 0.32776947 -0.7020024  -0.43536282  0.02222817 -0.13497187]\n",
      " [-0.31934044 -0.84849096 -0.91890514 -1.22801815 -0.4680674 ]\n",
      " [ 2.03654707 -1.84158872 -0.19641299  1.38567403  0.74802594]]\n"
     ]
    }
   ],
   "source": [
    "X_normalized = (X - mean) / std\n",
    "print(\"Normalized Array: \")\n",
    "print(X_normalized)"
   ]
  },
  {
   "cell_type": "code",
   "execution_count": 46,
   "id": "6a71e213-ad14-4e6f-b469-d366a362b587",
   "metadata": {},
   "outputs": [
    {
     "name": "stdout",
     "output_type": "stream",
     "text": [
      "Normalized array saved as X_normalized.npy\n"
     ]
    }
   ],
   "source": [
    "np.save('X_normalized.npy', X_normalized)\n",
    "print(\"Normalized array saved as X_normalized.npy\")"
   ]
  },
  {
   "cell_type": "code",
   "execution_count": null,
   "id": "45527ec3-4198-43f4-a8b8-fbe212bd1755",
   "metadata": {},
   "outputs": [],
   "source": []
  },
  {
   "cell_type": "code",
   "execution_count": 47,
   "id": "da021bc7-ea17-4a98-b094-8a0e90c269aa",
   "metadata": {},
   "outputs": [],
   "source": [
    "#DIVISIBLE BY #3 PROBLEM"
   ]
  },
  {
   "cell_type": "code",
   "execution_count": 48,
   "id": "78c635cb-f0c5-408f-a6c4-140a49e05b6a",
   "metadata": {},
   "outputs": [
    {
     "name": "stdout",
     "output_type": "stream",
     "text": [
      "Array of the squares of the first 100 integers: \n",
      "[[    1     4     9    16    25    36    49    64    81   100]\n",
      " [  121   144   169   196   225   256   289   324   361   400]\n",
      " [  441   484   529   576   625   676   729   784   841   900]\n",
      " [  961  1024  1089  1156  1225  1296  1369  1444  1521  1600]\n",
      " [ 1681  1764  1849  1936  2025  2116  2209  2304  2401  2500]\n",
      " [ 2601  2704  2809  2916  3025  3136  3249  3364  3481  3600]\n",
      " [ 3721  3844  3969  4096  4225  4356  4489  4624  4761  4900]\n",
      " [ 5041  5184  5329  5476  5625  5776  5929  6084  6241  6400]\n",
      " [ 6561  6724  6889  7056  7225  7396  7569  7744  7921  8100]\n",
      " [ 8281  8464  8649  8836  9025  9216  9409  9604  9801 10000]]\n"
     ]
    }
   ],
   "source": [
    "numbers = np.arange(1, 101)       \n",
    "squares = numbers**2              \n",
    "X = squares.reshape(10, 10)      \n",
    "print(\"Array of the squares of the first 100 integers: \")\n",
    "print(X)"
   ]
  },
  {
   "cell_type": "code",
   "execution_count": 49,
   "id": "bfa7f9ed-53f4-4a2e-b608-fa5d6f6790ad",
   "metadata": {},
   "outputs": [
    {
     "name": "stdout",
     "output_type": "stream",
     "text": [
      "Integers divisible by 3: \n",
      "[   9   36   81  144  225  324  441  576  729  900 1089 1296 1521 1764\n",
      " 2025 2304 2601 2916 3249 3600 3969 4356 4761 5184 5625 6084 6561 7056\n",
      " 7569 8100 8649 9216 9801]\n"
     ]
    }
   ],
   "source": [
    "div_by_3 = X[X % 3 == 0]         \n",
    "print(\"Integers divisible by 3: \")\n",
    "print(div_by_3)"
   ]
  },
  {
   "cell_type": "code",
   "execution_count": 50,
   "id": "f6876f15-6bb4-4a71-b864-acae0db173a8",
   "metadata": {},
   "outputs": [
    {
     "name": "stdout",
     "output_type": "stream",
     "text": [
      "Saved result as div_by_3.npy\n"
     ]
    }
   ],
   "source": [
    "np.save('div_by_3.npy', div_by_3)\n",
    "print(\"Saved result as div_by_3.npy\")"
   ]
  }
 ],
 "metadata": {
  "kernelspec": {
   "display_name": "Python 3 (ipykernel)",
   "language": "python",
   "name": "python3"
  },
  "language_info": {
   "codemirror_mode": {
    "name": "ipython",
    "version": 3
   },
   "file_extension": ".py",
   "mimetype": "text/x-python",
   "name": "python",
   "nbconvert_exporter": "python",
   "pygments_lexer": "ipython3",
   "version": "3.13.5"
  }
 },
 "nbformat": 4,
 "nbformat_minor": 5
}
